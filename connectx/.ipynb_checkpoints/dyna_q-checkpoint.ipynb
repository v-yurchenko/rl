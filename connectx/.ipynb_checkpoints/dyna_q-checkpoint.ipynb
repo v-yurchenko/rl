{
 "cells": [
  {
   "cell_type": "code",
   "execution_count": 52,
   "id": "8c6a1513",
   "metadata": {},
   "outputs": [],
   "source": [
    "from kaggle_environments import make\n",
    "import gym\n",
    "import numpy as np\n",
    "\n",
    "class ConnectX(gym.Env):\n",
    "    \"\"\"Custom Environment that follows gym interface\"\"\"\n",
    "\n",
    "    def __init__(self, opponent_type):\n",
    "        self.env = make(\"connectx\", debug=True)\n",
    "        self.trainer = self.env.train([None, opponent_type])\n",
    "        self.obs = None\n",
    "        self.action_space = gym.spaces.Discrete(self.env.configuration.columns)\n",
    "        self.observation_space = gym.spaces.Box(0, 2, shape=(self.env.configuration.rows, self.env.configuration.columns), \n",
    "                                                dtype=np.float32)\n",
    "\n",
    "    def get_kaggle_env(self):\n",
    "        return self.env\n",
    "\n",
    "    def step(self, action):\n",
    "        # Wrap kaggle environment.step()\n",
    "        if self.obs[0][action] != 0:\n",
    "            r = -1 # punish illegal move\n",
    "            d = False\n",
    "            o = self.obs\n",
    "        else:\n",
    "            o, r, d, _ = self.trainer.step(int(action))\n",
    "            o = np.reshape(np.array(o['board']), (self.env.configuration.rows, self.env.configuration.columns))\n",
    "            self.obs = o\n",
    "\n",
    "        return o, float(r), bool(d), {}\n",
    "\n",
    "    def reset(self):\n",
    "        o = self.trainer.reset()\n",
    "        self.obs = np.reshape(np.array(o['board']), (self.env.configuration.rows, self.env.configuration.columns))\n",
    "        return self.obs\n",
    "\n",
    "    def render(self, **kwargs):\n",
    "        return self.env.render(**kwargs)\n"
   ]
  },
  {
   "cell_type": "code",
   "execution_count": 90,
   "id": "616e587d",
   "metadata": {},
   "outputs": [],
   "source": [
    "import numpy as np\n",
    "import matplotlib.pyplot as plt\n",
    "import random\n",
    "from functools import partial\n",
    "from IPython.display import clear_output\n",
    "\n",
    "%matplotlib inline\n",
    "\n",
    "def show_progress(avg_returns):\n",
    "    \"\"\"\n",
    "    Удобная функция, которая отображает прогресс обучения.\n",
    "    \"\"\"\n",
    "    clear_output(True)\n",
    "    plt.figure(figsize=[12, 4])\n",
    "    plt.subplot(1, 1, 1)\n",
    "    plt.plot(*zip(*avg_returns), label='Mean return')\n",
    "    plt.legend(loc=4)\n",
    "    plt.grid()\n",
    "    plt.show()\n",
    "\n",
    "def compare_logs(logs):\n",
    "    \"\"\"Функция сравнения кривых обучения\"\"\"\n",
    "    plt.figure(figsize=[12, 6])\n",
    "    for log, method_name in logs:\n",
    "        plt.plot(*zip(*log), label=f'{method_name}')\n",
    "        plt.legend()\n",
    "    plt.grid()\n",
    "    plt.show()"
   ]
  },
  {
   "cell_type": "code",
   "execution_count": 91,
   "id": "038051f5",
   "metadata": {},
   "outputs": [
    {
     "data": {
      "text/plain": [
       "array([[0, 0, 0, 0, 0, 0, 0],\n",
       "       [0, 0, 0, 0, 0, 0, 0],\n",
       "       [0, 0, 0, 0, 0, 0, 0],\n",
       "       [0, 0, 0, 0, 0, 0, 0],\n",
       "       [0, 0, 0, 0, 0, 0, 0],\n",
       "       [0, 0, 0, 0, 0, 0, 0]])"
      ]
     },
     "execution_count": 91,
     "metadata": {},
     "output_type": "execute_result"
    }
   ],
   "source": [
    "env = ConnectX('negamax')\n",
    "# env = Monitor(gym_env, log_dir, allow_early_resets=True)\n",
    "# env = DummyVecEnv([lambda: env])\n",
    "env.reset()"
   ]
  },
  {
   "cell_type": "code",
   "execution_count": 92,
   "id": "81d837c5",
   "metadata": {},
   "outputs": [],
   "source": [
    "class Model:\n",
    "    def __init__(self, n_states, n_actions, seed):\n",
    "        self.mask_state = np.zeros([n_states], dtype=int)\n",
    "        self.mask_state_action = np.zeros([n_states, n_actions], dtype=int)\n",
    "        self.r = np.zeros_like(self.mask_state_action, dtype=float)\n",
    "        self.next_s = np.zeros_like(self.mask_state_action, dtype=int)\n",
    "        self._rng = np.random.default_rng(seed)\n",
    "\n",
    "    def add(self, s: int, a: int, r: float, next_s: int) -> float:\n",
    "        self.mask_state[s] = 1\n",
    "        self.mask_state_action[s, a] = 1\n",
    "        self.r[s, a] = r\n",
    "        self.next_s[s, a] = next_s\n",
    "        # Store reward and next state\n",
    "        return r\n",
    "\n",
    "    def sample(self) -> tuple[int, int, float, int]:\n",
    "        \"\"\"\n",
    "        returns s, a, r, next_s\n",
    "        \"\"\"\n",
    "        s = self._rng.choice(self.mask_state.nonzero()[0])\n",
    "        a = self._rng.choice(self.mask_state_action[s].nonzero()[0])\n",
    "        return s, a, self.r[s,a], self.next_s[s,a]\n"
   ]
  },
  {
   "cell_type": "code",
   "execution_count": 93,
   "id": "c21ea411",
   "metadata": {},
   "outputs": [],
   "source": [
    "class DynaQAgent:\n",
    "    def __init__(self, n_states, n_actions, lr, gamma, eps, f_model, seed):\n",
    "        self.Q = np.zeros((n_states, n_actions))\n",
    "        self.model = f_model(n_states, n_actions, seed=seed)\n",
    "        self.lr = lr\n",
    "        self.gamma = gamma\n",
    "        self.eps = eps\n",
    "        self.n_actions = n_actions\n",
    "        self._rng = np.random.default_rng(seed)\n",
    "        \n",
    "    def act(self, s):\n",
    "        s = s.reshape(-1)\n",
    "        # выбираем действие, используя eps-greedy исследование среды\n",
    "        # с вероятностью epsilon выбираем случайное действие, иначе\n",
    "        # выполняем действие жадно, согласно текущей Q-таблице\n",
    "        if self._rng.random() < self.eps:\n",
    "            action = self._rng.choice(self.n_actions)\n",
    "        else:\n",
    "            action = np.argmax(self.Q[s])%self.n_actions  # используем Q-функцию\n",
    "        return action\n",
    "\n",
    "    def update(self, s, a, r, s_n, update_model: bool):\n",
    "        s = s.reshape(-1)\n",
    "        s_n = s_n.reshape(-1)\n",
    "        # Обновите модель, если нужно, реализуйте шаг Q-обучения\n",
    "        ####### Здесь ваш код ########\n",
    "        if update_model:\n",
    "            self.model.add(s,a,r,s_n)\n",
    "        # alpha = lr\n",
    "        self.Q[s,a] += self.lr * (r + self.gamma*np.max(self.Q[s_n])- self.Q[s, a])\n",
    "        ##############################\n",
    "        \n",
    "    def dream(self, max_steps):\n",
    "        for _ in range(max_steps):\n",
    "            # Добавьте шаг обучения с использованием модели\n",
    "            ####### Здесь ваш код ########\n",
    "            s, a, r, next_s = self.model.sample()\n",
    "            self.update(s, a, r, next_s, False)\n",
    "            ##############################"
   ]
  },
  {
   "cell_type": "code",
   "execution_count": 94,
   "id": "37b5c009",
   "metadata": {},
   "outputs": [],
   "source": [
    "def train(env, agent, n_episodes, on_model_updates, seed, show_progress_schedule=50):\n",
    "    avg_returns, returns_batch = [], []\n",
    "    rng = np.random.default_rng(seed)\n",
    "\n",
    "    for i in range(1, n_episodes):\n",
    "        state = env.reset() #seed=int(rng.integers(10000000)))\n",
    "        reward, episode_return = 0, 0\n",
    "\n",
    "        while True:\n",
    "            action = agent.act(state)\n",
    "#             print(action)\n",
    "\n",
    "            # выполняем действие в среде\n",
    "            next_state, reward, terminated, info = env.step(action)\n",
    "#             print(state)\n",
    "            agent.update(state.reshape(-1), action, reward, next_state.reshape(-1), update_model=True)\n",
    "            state = next_state\n",
    "            episode_return += reward\n",
    "            done = terminated # or truncated\n",
    "            if done:\n",
    "                break\n",
    "            agent.dream(on_model_updates)\n",
    "\n",
    "        returns_batch.append(episode_return)\n",
    "\n",
    "        if i % show_progress_schedule == 0:\n",
    "            avg_returns.append((i, np.mean(returns_batch)))\n",
    "            returns_batch = []\n",
    "            \n",
    "            show_progress(avg_returns)\n",
    "            print(\n",
    "                f\"Episode: {i}, Return: {episode_return}, \"\n",
    "                f\"AvgReturn[{show_progress_schedule}]: {avg_returns[-1][1]:.0f}\"\n",
    "            )\n",
    "\n",
    "    return avg_returns"
   ]
  },
  {
   "cell_type": "code",
   "execution_count": null,
   "id": "3a6661f1",
   "metadata": {},
   "outputs": [
    {
     "data": {
      "image/png": "[encoded data removed]",
      "text/plain": [
       "<Figure size 864x288 with 1 Axes>"
      ]
     },
     "metadata": {
      "needs_background": "light"
     },
     "output_type": "display_data"
    },
    {
     "name": "stdout",
     "output_type": "stream",
     "text": [
      "Episode: 250, Return: 2.0, AvgReturn[50]: 2\n"
     ]
    }
   ],
   "source": [
    "seed = 1337\n",
    "x, y = env.observation_space.shape\n",
    "agent = DynaQAgent(\n",
    "    x * y, env.action_space.n , lr=0.1, gamma=0.95, eps=0.1, seed=seed,\n",
    "    f_model=Model\n",
    ")\n",
    "\n",
    "log_q = train(env, agent, n_episodes=20_001, on_model_updates=20, seed=seed, show_progress_schedule=50)"
   ]
  },
  {
   "cell_type": "code",
   "execution_count": null,
   "id": "979826b2",
   "metadata": {},
   "outputs": [],
   "source": []
  }
 ],
 "metadata": {
  "kernelspec": {
   "display_name": "Python 3 (ipykernel)",
   "language": "python",
   "name": "python3"
  },
  "language_info": {
   "codemirror_mode": {
    "name": "ipython",
    "version": 3
   },
   "file_extension": ".py",
   "mimetype": "text/x-python",
   "name": "python",
   "nbconvert_exporter": "python",
   "pygments_lexer": "ipython3",
   "version": "3.10.6"
  }
 },
 "nbformat": 4,
 "nbformat_minor": 5
}
